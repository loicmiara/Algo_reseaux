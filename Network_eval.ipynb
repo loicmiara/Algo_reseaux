{
 "cells": [
  {
   "cell_type": "code",
   "execution_count": 1,
   "id": "28b95272-49ac-4b86-af6c-e33cbcad6b10",
   "metadata": {},
   "outputs": [],
   "source": [
    "import geopandas as gpd\n",
    "import pandas as pd\n",
    "import osmnx as ox\n",
    "import matplotlib.pyplot as plt\n",
    "import os\n",
    "import folium\n",
    "import alphashape\n",
    "import numpy as np\n",
    "from tqdm.notebook import tqdm\n",
    "import matplotlib.animation as animation\n",
    "import imageio\n",
    "import networkx as nx\n",
    "import io\n",
    "from PIL import Image\n",
    "import time\n",
    "import sys\n",
    "from matplotlib import cm\n",
    "from IPython.display import clear_output\n",
    "import seaborn as sns\n",
    "import matplotlib.colors as mcolors\n",
    "pd.options.mode.copy_on_write = True\n",
    "\n",
    "%matplotlib inline"
   ]
  },
  {
   "cell_type": "code",
   "execution_count": 2,
   "id": "f498dbed-fedd-4667-8da0-18210ad9d130",
   "metadata": {},
   "outputs": [],
   "source": [
    "from network import Network"
   ]
  },
  {
   "cell_type": "code",
   "execution_count": 3,
   "id": "d0bbc212-d4b2-463f-9449-017bc70cd49e",
   "metadata": {},
   "outputs": [
    {
     "data": {
      "text/plain": [
       "['__class__',\n",
       " '__delattr__',\n",
       " '__dict__',\n",
       " '__dir__',\n",
       " '__doc__',\n",
       " '__eq__',\n",
       " '__format__',\n",
       " '__ge__',\n",
       " '__getattribute__',\n",
       " '__gt__',\n",
       " '__hash__',\n",
       " '__init__',\n",
       " '__init_subclass__',\n",
       " '__le__',\n",
       " '__lt__',\n",
       " '__module__',\n",
       " '__ne__',\n",
       " '__new__',\n",
       " '__reduce__',\n",
       " '__reduce_ex__',\n",
       " '__repr__',\n",
       " '__setattr__',\n",
       " '__sizeof__',\n",
       " '__str__',\n",
       " '__subclasshook__',\n",
       " '__weakref__',\n",
       " 'compute_routes',\n",
       " 'compute_routes_replace',\n",
       " 'compute_routes_summary',\n",
       " 'filter_n_ex',\n",
       " 'filter_n_pot',\n",
       " 'get_routes_edges',\n",
       " 'load_n_ex',\n",
       " 'load_n_pot',\n",
       " 'load_trips',\n",
       " 'plot_n_ex',\n",
       " 'plot_n_pot',\n",
       " 'plot_routes',\n",
       " 'reset_network',\n",
       " 'reset_routes',\n",
       " 'reset_sample',\n",
       " 'run_algo',\n",
       " 'sample_trips',\n",
       " 'simulate_demand',\n",
       " 'weight_network']"
      ]
     },
     "execution_count": 3,
     "metadata": {},
     "output_type": "execute_result"
    }
   ],
   "source": [
    "dir(Network)"
   ]
  },
  {
   "cell_type": "code",
   "execution_count": 4,
   "id": "e793f178-e600-4e62-b405-0528b5cf9b6f",
   "metadata": {},
   "outputs": [],
   "source": [
    "n_mtl = Network()\n",
    "ex = 'Data/Reseaux/ns_EX_Montreal.graphml'\n",
    "pot = 'Data/Reseaux/ns_POT_Montreal.graphml'\n",
    "trips = 'Data/od18_extraqit_20250123/od18_extraqit_20250123.csv'\n",
    "n_mtl.load_n_pot(pot)\n",
    "n_mtl.load_n_ex(ex)\n",
    "n_mtl.load_trips(trips)"
   ]
  },
  {
   "cell_type": "code",
   "execution_count": 5,
   "id": "dddf9498-2c71-40d7-b329-17609a8611fa",
   "metadata": {},
   "outputs": [],
   "source": [
    "n_lvl = Network()\n",
    "ex = 'Data/Reseaux/ns_EX_Laval,Qc.graphml'\n",
    "pot = 'Data/Reseaux/ns_POT_Laval,Qc.graphml'\n",
    "trips = 'Data/od18_extraqit_20250123/od18_extraqit_20250123.csv'\n",
    "n_lvl.load_n_pot(pot)\n",
    "n_lvl.load_n_ex(ex)\n",
    "n_lvl.load_trips(trips)"
   ]
  },
  {
   "cell_type": "code",
   "execution_count": 6,
   "id": "4f3ad0e2-8b9a-45af-b10a-9e0f1a33ba21",
   "metadata": {},
   "outputs": [],
   "source": [
    "n_beloeil = Network()\n",
    "ex = 'Data/Reseaux/ns_EX_Beloeil,Qc+Mont-Saint-Hilaire.graphml'\n",
    "pot = 'Data/Reseaux/ns_POT_Beloeil,Qc+Mont-Saint-Hilaire.graphml'\n",
    "trips = 'Data/od18_extraqit_20250123/od18_extraqit_20250123.csv'\n",
    "n_beloeil.load_n_pot(pot)\n",
    "n_beloeil.load_n_ex(ex)\n",
    "n_beloeil.load_trips(trips)"
   ]
  },
  {
   "cell_type": "code",
   "execution_count": 32,
   "id": "61c03bce-2649-4cc5-8d58-e77e18e78b6d",
   "metadata": {},
   "outputs": [],
   "source": [
    "n_ut = Network(crs = 32631)\n",
    "ex = 'Data/Reseaux/ns_EX_Utrecht.graphml'\n",
    "pot = 'Data/Reseaux/ns_POT_Utrecht.graphml'\n",
    "n_ut.load_n_pot(pot)\n",
    "n_ut.load_n_ex(ex)"
   ]
  },
  {
   "cell_type": "code",
   "execution_count": 94,
   "id": "7f9b43f7-decf-4524-89bd-173296d039c5",
   "metadata": {},
   "outputs": [],
   "source": [
    "n_am = Network(crs = 32631)\n",
    "ex = 'Data/Reseaux/ns_EX_Amsterdam.graphml'\n",
    "pot = 'Data/Reseaux/ns_POT_Amsterdam.graphml'\n",
    "n_am.load_n_pot(pot)\n",
    "n_am.load_n_ex(ex)"
   ]
  },
  {
   "cell_type": "code",
   "execution_count": 106,
   "id": "b4035f3f-a61e-4efe-974b-2710bf25a7e5",
   "metadata": {},
   "outputs": [
    {
     "name": "stdout",
     "output_type": "stream",
     "text": [
      "0\n"
     ]
    },
    {
     "data": {
      "application/vnd.jupyter.widget-view+json": {
       "model_id": "ae15561db06a4fd485f71ea5ddccdcb6",
       "version_major": 2,
       "version_minor": 0
      },
      "text/plain": [
       "  0%|          | 0/1000 [00:00<?, ?it/s]"
      ]
     },
     "metadata": {},
     "output_type": "display_data"
    },
    {
     "name": "stdout",
     "output_type": "stream",
     "text": [
      "88.2 % of solved routes,  0.8  % of static routes\n"
     ]
    },
    {
     "data": {
      "application/vnd.jupyter.widget-view+json": {
       "model_id": "b0fa7a6be7a446c1b61d342dcb87fb7e",
       "version_major": 2,
       "version_minor": 0
      },
      "text/plain": [
       "  0%|          | 0/1000 [00:00<?, ?it/s]"
      ]
     },
     "metadata": {},
     "output_type": "display_data"
    },
    {
     "name": "stdout",
     "output_type": "stream",
     "text": [
      "94.3 % of solved routes,  0.8999999999999999  % of static routes\n"
     ]
    },
    {
     "data": {
      "application/vnd.jupyter.widget-view+json": {
       "model_id": "06d6a72458e44c89ab1939196a5d7827",
       "version_major": 2,
       "version_minor": 0
      },
      "text/plain": [
       "  0%|          | 0/1000 [00:00<?, ?it/s]"
      ]
     },
     "metadata": {},
     "output_type": "display_data"
    },
    {
     "name": "stdout",
     "output_type": "stream",
     "text": [
      "99.0 % of solved routes,  0.1  % of static routes\n"
     ]
    },
    {
     "data": {
      "application/vnd.jupyter.widget-view+json": {
       "model_id": "bc2647d061c9427099257fc28822e6f9",
       "version_major": 2,
       "version_minor": 0
      },
      "text/plain": [
       "  0%|          | 0/1000 [00:00<?, ?it/s]"
      ]
     },
     "metadata": {},
     "output_type": "display_data"
    },
    {
     "name": "stdout",
     "output_type": "stream",
     "text": [
      "77.7 % of solved routes,  0.0  % of static routes\n"
     ]
    },
    {
     "data": {
      "application/vnd.jupyter.widget-view+json": {
       "model_id": "f1737e93605c4168b06cc3aa20b89515",
       "version_major": 2,
       "version_minor": 0
      },
      "text/plain": [
       "  0%|          | 0/1000 [00:00<?, ?it/s]"
      ]
     },
     "metadata": {},
     "output_type": "display_data"
    },
    {
     "name": "stdout",
     "output_type": "stream",
     "text": [
      "76.7 % of solved routes,  0.2  % of static routes\n",
      "1\n"
     ]
    },
    {
     "data": {
      "application/vnd.jupyter.widget-view+json": {
       "model_id": "94fc8f9d49d74fb09d5e0f473bb9d205",
       "version_major": 2,
       "version_minor": 0
      },
      "text/plain": [
       "  0%|          | 0/1000 [00:00<?, ?it/s]"
      ]
     },
     "metadata": {},
     "output_type": "display_data"
    },
    {
     "name": "stdout",
     "output_type": "stream",
     "text": [
      "88.2 % of solved routes,  0.4  % of static routes\n"
     ]
    },
    {
     "data": {
      "application/vnd.jupyter.widget-view+json": {
       "model_id": "3df7ad33d7984e1cb7c1e9bea92a40f0",
       "version_major": 2,
       "version_minor": 0
      },
      "text/plain": [
       "  0%|          | 0/1000 [00:00<?, ?it/s]"
      ]
     },
     "metadata": {},
     "output_type": "display_data"
    },
    {
     "name": "stdout",
     "output_type": "stream",
     "text": [
      "93.10000000000001 % of solved routes,  0.4  % of static routes\n"
     ]
    },
    {
     "data": {
      "application/vnd.jupyter.widget-view+json": {
       "model_id": "920baa8c404b4d3496b386de2a5bb118",
       "version_major": 2,
       "version_minor": 0
      },
      "text/plain": [
       "  0%|          | 0/1000 [00:00<?, ?it/s]"
      ]
     },
     "metadata": {},
     "output_type": "display_data"
    },
    {
     "name": "stdout",
     "output_type": "stream",
     "text": [
      "98.6 % of solved routes,  0.4  % of static routes\n"
     ]
    },
    {
     "data": {
      "application/vnd.jupyter.widget-view+json": {
       "model_id": "df33bfef73a34924b84d4859f614f85f",
       "version_major": 2,
       "version_minor": 0
      },
      "text/plain": [
       "  0%|          | 0/1000 [00:00<?, ?it/s]"
      ]
     },
     "metadata": {},
     "output_type": "display_data"
    },
    {
     "name": "stdout",
     "output_type": "stream",
     "text": [
      "81.69999999999999 % of solved routes,  0.0  % of static routes\n"
     ]
    },
    {
     "data": {
      "application/vnd.jupyter.widget-view+json": {
       "model_id": "58d6797082c34125a99ee65cc2909f9a",
       "version_major": 2,
       "version_minor": 0
      },
      "text/plain": [
       "  0%|          | 0/1000 [00:00<?, ?it/s]"
      ]
     },
     "metadata": {},
     "output_type": "display_data"
    },
    {
     "name": "stdout",
     "output_type": "stream",
     "text": [
      "77.9 % of solved routes,  0.1  % of static routes\n",
      "2\n"
     ]
    },
    {
     "data": {
      "application/vnd.jupyter.widget-view+json": {
       "model_id": "3d47120836cf46678cdbe30356bac869",
       "version_major": 2,
       "version_minor": 0
      },
      "text/plain": [
       "  0%|          | 0/1000 [00:00<?, ?it/s]"
      ]
     },
     "metadata": {},
     "output_type": "display_data"
    },
    {
     "name": "stdout",
     "output_type": "stream",
     "text": [
      "88.4 % of solved routes,  0.5  % of static routes\n"
     ]
    },
    {
     "data": {
      "application/vnd.jupyter.widget-view+json": {
       "model_id": "330039ad850d4a80b27c46240323165e",
       "version_major": 2,
       "version_minor": 0
      },
      "text/plain": [
       "  0%|          | 0/1000 [00:00<?, ?it/s]"
      ]
     },
     "metadata": {},
     "output_type": "display_data"
    },
    {
     "name": "stdout",
     "output_type": "stream",
     "text": [
      "92.10000000000001 % of solved routes,  0.4  % of static routes\n"
     ]
    },
    {
     "data": {
      "application/vnd.jupyter.widget-view+json": {
       "model_id": "6fb8d8d0158942338a368160d52ddd2f",
       "version_major": 2,
       "version_minor": 0
      },
      "text/plain": [
       "  0%|          | 0/1000 [00:00<?, ?it/s]"
      ]
     },
     "metadata": {},
     "output_type": "display_data"
    },
    {
     "name": "stdout",
     "output_type": "stream",
     "text": [
      "98.9 % of solved routes,  0.2  % of static routes\n"
     ]
    },
    {
     "data": {
      "application/vnd.jupyter.widget-view+json": {
       "model_id": "03aa1c36148447a3afc216736fab1b10",
       "version_major": 2,
       "version_minor": 0
      },
      "text/plain": [
       "  0%|          | 0/1000 [00:00<?, ?it/s]"
      ]
     },
     "metadata": {},
     "output_type": "display_data"
    },
    {
     "name": "stdout",
     "output_type": "stream",
     "text": [
      "79.2 % of solved routes,  0.2  % of static routes\n"
     ]
    },
    {
     "data": {
      "application/vnd.jupyter.widget-view+json": {
       "model_id": "bae8c131e0cc4615adeb039c4c9fa5d2",
       "version_major": 2,
       "version_minor": 0
      },
      "text/plain": [
       "  0%|          | 0/1000 [00:00<?, ?it/s]"
      ]
     },
     "metadata": {},
     "output_type": "display_data"
    },
    {
     "name": "stdout",
     "output_type": "stream",
     "text": [
      "76.1 % of solved routes,  0.3  % of static routes\n",
      "3\n"
     ]
    },
    {
     "data": {
      "application/vnd.jupyter.widget-view+json": {
       "model_id": "e9043f9453c04ad18a811cbb3ce678fb",
       "version_major": 2,
       "version_minor": 0
      },
      "text/plain": [
       "  0%|          | 0/1000 [00:00<?, ?it/s]"
      ]
     },
     "metadata": {},
     "output_type": "display_data"
    },
    {
     "name": "stdout",
     "output_type": "stream",
     "text": [
      "88.5 % of solved routes,  0.4  % of static routes\n"
     ]
    },
    {
     "data": {
      "application/vnd.jupyter.widget-view+json": {
       "model_id": "cc6ee847360d422aa352df0c6a5fe4e6",
       "version_major": 2,
       "version_minor": 0
      },
      "text/plain": [
       "  0%|          | 0/1000 [00:00<?, ?it/s]"
      ]
     },
     "metadata": {},
     "output_type": "display_data"
    },
    {
     "name": "stdout",
     "output_type": "stream",
     "text": [
      "92.7 % of solved routes,  0.7000000000000001  % of static routes\n"
     ]
    },
    {
     "data": {
      "application/vnd.jupyter.widget-view+json": {
       "model_id": "2838437d2b6d49a68cb9920c3e5fe00f",
       "version_major": 2,
       "version_minor": 0
      },
      "text/plain": [
       "  0%|          | 0/1000 [00:00<?, ?it/s]"
      ]
     },
     "metadata": {},
     "output_type": "display_data"
    },
    {
     "name": "stdout",
     "output_type": "stream",
     "text": [
      "99.0 % of solved routes,  0.2  % of static routes\n"
     ]
    },
    {
     "data": {
      "application/vnd.jupyter.widget-view+json": {
       "model_id": "d7295ccd9a604bfeab6bdddf3c9ee8b6",
       "version_major": 2,
       "version_minor": 0
      },
      "text/plain": [
       "  0%|          | 0/1000 [00:00<?, ?it/s]"
      ]
     },
     "metadata": {},
     "output_type": "display_data"
    },
    {
     "name": "stdout",
     "output_type": "stream",
     "text": [
      "79.69999999999999 % of solved routes,  0.0  % of static routes\n"
     ]
    },
    {
     "data": {
      "application/vnd.jupyter.widget-view+json": {
       "model_id": "ec3110c99aac47989e9a3be03b4567e0",
       "version_major": 2,
       "version_minor": 0
      },
      "text/plain": [
       "  0%|          | 0/1000 [00:00<?, ?it/s]"
      ]
     },
     "metadata": {},
     "output_type": "display_data"
    },
    {
     "name": "stdout",
     "output_type": "stream",
     "text": [
      "76.8 % of solved routes,  0.3  % of static routes\n",
      "4\n"
     ]
    },
    {
     "data": {
      "application/vnd.jupyter.widget-view+json": {
       "model_id": "692c2431b8b3468387d17fc6d9cda285",
       "version_major": 2,
       "version_minor": 0
      },
      "text/plain": [
       "  0%|          | 0/1000 [00:00<?, ?it/s]"
      ]
     },
     "metadata": {},
     "output_type": "display_data"
    },
    {
     "name": "stdout",
     "output_type": "stream",
     "text": [
      "89.4 % of solved routes,  0.5  % of static routes\n"
     ]
    },
    {
     "data": {
      "application/vnd.jupyter.widget-view+json": {
       "model_id": "d1a52945da94476c893fb63aeb3247df",
       "version_major": 2,
       "version_minor": 0
      },
      "text/plain": [
       "  0%|          | 0/1000 [00:00<?, ?it/s]"
      ]
     },
     "metadata": {},
     "output_type": "display_data"
    },
    {
     "name": "stdout",
     "output_type": "stream",
     "text": [
      "93.9 % of solved routes,  1.5  % of static routes\n"
     ]
    },
    {
     "data": {
      "application/vnd.jupyter.widget-view+json": {
       "model_id": "2c060f3ae7304addbf1bc998d5d85228",
       "version_major": 2,
       "version_minor": 0
      },
      "text/plain": [
       "  0%|          | 0/1000 [00:00<?, ?it/s]"
      ]
     },
     "metadata": {},
     "output_type": "display_data"
    },
    {
     "name": "stdout",
     "output_type": "stream",
     "text": [
      "99.4 % of solved routes,  0.4  % of static routes\n"
     ]
    },
    {
     "data": {
      "application/vnd.jupyter.widget-view+json": {
       "model_id": "4d3feb5ea9224dd2b6b581e519a32f1a",
       "version_major": 2,
       "version_minor": 0
      },
      "text/plain": [
       "  0%|          | 0/1000 [00:00<?, ?it/s]"
      ]
     },
     "metadata": {},
     "output_type": "display_data"
    },
    {
     "name": "stdout",
     "output_type": "stream",
     "text": [
      "81.89999999999999 % of solved routes,  0.2  % of static routes\n"
     ]
    },
    {
     "data": {
      "application/vnd.jupyter.widget-view+json": {
       "model_id": "81a2d2055da441eaa5c0e529b62d908e",
       "version_major": 2,
       "version_minor": 0
      },
      "text/plain": [
       "  0%|          | 0/1000 [00:00<?, ?it/s]"
      ]
     },
     "metadata": {},
     "output_type": "display_data"
    },
    {
     "name": "stdout",
     "output_type": "stream",
     "text": [
      "80.69999999999999 % of solved routes,  0.2  % of static routes\n",
      "5\n"
     ]
    },
    {
     "data": {
      "application/vnd.jupyter.widget-view+json": {
       "model_id": "cabcec359435441cbb080bd58cfa6ea1",
       "version_major": 2,
       "version_minor": 0
      },
      "text/plain": [
       "  0%|          | 0/1000 [00:00<?, ?it/s]"
      ]
     },
     "metadata": {},
     "output_type": "display_data"
    },
    {
     "name": "stdout",
     "output_type": "stream",
     "text": [
      "88.1 % of solved routes,  0.4  % of static routes\n"
     ]
    },
    {
     "data": {
      "application/vnd.jupyter.widget-view+json": {
       "model_id": "89e2ef3897c94cd5a4b66caec53803f8",
       "version_major": 2,
       "version_minor": 0
      },
      "text/plain": [
       "  0%|          | 0/1000 [00:00<?, ?it/s]"
      ]
     },
     "metadata": {},
     "output_type": "display_data"
    },
    {
     "name": "stdout",
     "output_type": "stream",
     "text": [
      "93.9 % of solved routes,  0.8999999999999999  % of static routes\n"
     ]
    },
    {
     "data": {
      "application/vnd.jupyter.widget-view+json": {
       "model_id": "48cd2fa03b594730bc8e65bed1cd6ed9",
       "version_major": 2,
       "version_minor": 0
      },
      "text/plain": [
       "  0%|          | 0/1000 [00:00<?, ?it/s]"
      ]
     },
     "metadata": {},
     "output_type": "display_data"
    },
    {
     "name": "stdout",
     "output_type": "stream",
     "text": [
      "98.8 % of solved routes,  0.6  % of static routes\n"
     ]
    },
    {
     "data": {
      "application/vnd.jupyter.widget-view+json": {
       "model_id": "7dadf9867a4942d8ae67d3f73ed8e586",
       "version_major": 2,
       "version_minor": 0
      },
      "text/plain": [
       "  0%|          | 0/1000 [00:00<?, ?it/s]"
      ]
     },
     "metadata": {},
     "output_type": "display_data"
    },
    {
     "name": "stdout",
     "output_type": "stream",
     "text": [
      "77.7 % of solved routes,  0.0  % of static routes\n"
     ]
    },
    {
     "data": {
      "application/vnd.jupyter.widget-view+json": {
       "model_id": "7edffb8fbde142eead0b7d12ee8e51d2",
       "version_major": 2,
       "version_minor": 0
      },
      "text/plain": [
       "  0%|          | 0/1000 [00:00<?, ?it/s]"
      ]
     },
     "metadata": {},
     "output_type": "display_data"
    },
    {
     "name": "stdout",
     "output_type": "stream",
     "text": [
      "73.1 % of solved routes,  0.6  % of static routes\n"
     ]
    }
   ],
   "source": [
    "networks = [n_mtl,n_lvl,n_beloeil,n_ut,n_am]\n",
    "r_fac = np.linspace(0,1,6)\n",
    "summaries = []\n",
    "for j,r in enumerate(r_fac):\n",
    "    print(j)\n",
    "    for j,n in enumerate(networks):\n",
    "        n.reset_network()\n",
    "        n.weight_network(r)\n",
    "        n.reset_sample()\n",
    "        n.reset_routes()\n",
    "        n.simulate_demand(size = 1000)\n",
    "        n.compute_routes(n.n_pot)\n",
    "        n.get_routes_edges(n.n_pot)\n",
    "        n.compute_routes_summary()\n",
    "        summaries.append(n.routes_summary)"
   ]
  },
  {
   "cell_type": "code",
   "execution_count": 147,
   "id": "15cbc940-ccc0-4e5b-b332-000634f69bc6",
   "metadata": {},
   "outputs": [
    {
     "data": {
      "image/png": "[encoded data removed]",
      "text/plain": [
       "<Figure size 640x480 with 1 Axes>"
      ]
     },
     "metadata": {},
     "output_type": "display_data"
    }
   ],
   "source": [
    "labels = ['Montréal','Laval','Beloeil+Mont-St-Hilaire','Utrecht','Amsterdam']\n",
    "fig, ax = plt.subplots()\n",
    "for i,n in enumerate(networks):\n",
    "    ax.plot(r_fac,[summary.prop_cycleway.median() for summary in summaries[i::len(networks)]], label = labels[i], linestyle = '-.')\n",
    "    ax.scatter(r_fac,[summary.prop_cycleway.median() for summary in summaries[i::len(networks)]],s = 15)\n",
    "\n",
    "fig.legend()\n",
    "ax.set_xlabel('Cost reduction factor')\n",
    "ax.set_ylabel('Mean proportion of routes on cycleways')\n",
    "fig.tight_layout()\n",
    "fig.savefig('Figures/cities_comparison.png')"
   ]
  },
  {
   "cell_type": "code",
   "execution_count": 101,
   "id": "0d4adb37-6cc2-4732-b5bc-2a3786275446",
   "metadata": {},
   "outputs": [
    {
     "data": {
      "text/plain": [
       "<matplotlib.legend.Legend at 0x1e609bdbb50>"
      ]
     },
     "execution_count": 101,
     "metadata": {},
     "output_type": "execute_result"
    },
    {
     "data": {
      "image/png": "[encoded data removed]",
      "text/plain": [
       "<Figure size 640x480 with 1 Axes>"
      ]
     },
     "metadata": {},
     "output_type": "display_data"
    }
   ],
   "source": [
    "labels = ['Mtl','Laval','Beloeil+Mont-St-Hilaire','Utrecht','Amsterdam']\n",
    "fig, ax = plt.subplots()\n",
    "for i,summary in enumerate(summaries):\n",
    "    sns.kdeplot(summary.prop_cycleway, ax = ax, cut = 0, fill = True, label = labels[i])\n",
    "\n",
    "ax.legend()"
   ]
  },
  {
   "cell_type": "code",
   "execution_count": null,
   "id": "09f99f94-3f25-407a-9d9b-728556b5f5d0",
   "metadata": {},
   "outputs": [],
   "source": [
    "n.reset_network()\n",
    "n.reset_routes()\n",
    "n.reset_sample()\n",
    "n.sample_trips(sample_size=1000)\n",
    "r_fac = np.linspace(0,1,11)"
   ]
  },
  {
   "cell_type": "code",
   "execution_count": null,
   "id": "11ac1fb9-101f-4c41-9f5d-15d907d7465e",
   "metadata": {},
   "outputs": [],
   "source": [
    "counts_all = []\n",
    "for i,f in enumerate(r_fac):\n",
    "    n.weight_network(cycleway_reduc_factor=f)\n",
    "    n.reset_routes()\n",
    "    n.compute_routes(n.n_pot)\n",
    "    n.get_routes_edges(n.n_pot)\n",
    "    n.compute_routes_summary()\n",
    "    bins = np.linspace(0,1,101)\n",
    "    counts,_ = np.histogram(n.routes_summary.prop_cycleway,bins = bins)\n",
    "    counts = np.reshape(counts, (len(counts),1))\n",
    "    counts_all.append(counts)"
   ]
  },
  {
   "cell_type": "code",
   "execution_count": null,
   "id": "1f6c289a-c49c-40dd-84ac-f08412683f04",
   "metadata": {},
   "outputs": [],
   "source": [
    "counts_all_stacked = np.hstack(counts_all)\n",
    "fig, ax = plt.subplots()\n",
    "im = ax.imshow(counts_all_stacked,extent=[0,1,0,1],origin = 'lower',norm = 'log')\n",
    "cbar = fig.colorbar(im, ax=ax)"
   ]
  }
 ],
 "metadata": {
  "kernelspec": {
   "display_name": "Python 3 (ipykernel)",
   "language": "python",
   "name": "python3"
  },
  "language_info": {
   "codemirror_mode": {
    "name": "ipython",
    "version": 3
   },
   "file_extension": ".py",
   "mimetype": "text/x-python",
   "name": "python",
   "nbconvert_exporter": "python",
   "pygments_lexer": "ipython3",
   "version": "3.9.21"
  }
 },
 "nbformat": 4,
 "nbformat_minor": 5
}
